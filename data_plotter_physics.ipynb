{
  "nbformat": 4,
  "nbformat_minor": 0,
  "metadata": {
    "colab": {
      "provenance": [],
      "authorship_tag": "ABX9TyPbmRQFw8jy1gGWJXHSbplm",
      "include_colab_link": true
    },
    "kernelspec": {
      "name": "python3",
      "display_name": "Python 3"
    },
    "language_info": {
      "name": "python"
    }
  },
  "cells": [
    {
      "cell_type": "markdown",
      "metadata": {
        "id": "view-in-github",
        "colab_type": "text"
      },
      "source": [
        "<a href=\"https://colab.research.google.com/github/sxfrul/lab-data-plotter/blob/main/data_plotter_physics.ipynb\" target=\"_parent\"><img src=\"https://colab.research.google.com/assets/colab-badge.svg\" alt=\"Open In Colab\"/></a>"
      ]
    },
    {
      "cell_type": "markdown",
      "source": [
        "# Physics Experiment Data Plotter\n",
        "## Objective:\n",
        "\n",
        "\n",
        "The scope of this project is to handle the **graph plotting task** in `Physics Experiment Lab.`\n",
        "\n",
        "## User Guide:\n",
        "- Insert Entries Count\n",
        "- Insert Unit\n",
        "- Insert Data"
      ],
      "metadata": {
        "id": "WEEMcJvu7O16"
      }
    },
    {
      "cell_type": "code",
      "source": [
        "import matplotlib.pyplot as plt\n",
        "import numpy as np"
      ],
      "metadata": {
        "id": "4oRwS7AY6tM3"
      },
      "execution_count": 1,
      "outputs": []
    },
    {
      "cell_type": "code",
      "execution_count": 9,
      "metadata": {
        "colab": {
          "base_uri": "https://localhost:8080/",
          "height": 936
        },
        "id": "cWVo_OpV7KqV",
        "outputId": "0e9ae967-45d3-4de2-f018-5f49c2d33de4"
      },
      "outputs": [
        {
          "output_type": "stream",
          "name": "stdout",
          "text": [
            "Insert title: hello\n",
            "Insert x-label: a\n",
            "Insert y-label: b\n",
            "Insert entry-count: a\n",
            "Something went wrong...\n",
            "Insert entry-count: 5\n",
            "Data [1]\n",
            "Enter data: a\n",
            "Something went wrong...\n",
            "Enter data: 1, 2\n",
            "Data [2]\n",
            "Enter data: 1, \n",
            "Something went wrong...\n",
            "Enter data: 3, 4\n",
            "Data [3]\n",
            "Enter data: 4, 5\n",
            "Data [4]\n",
            "Enter data: 6, 7\n",
            "Data [5]\n",
            "Enter data: 8, 9\n",
            "\n",
            "x-points: [1.0, 3.0, 4.0, 6.0, 8.0]\n",
            "y-points: [2.0, 4.0, 5.0, 7.0, 9.0]\n",
            "\n",
            "Centroid-X is [4.4]\n",
            "Centroid-Y is [5.4]\n"
          ]
        },
        {
          "output_type": "display_data",
          "data": {
            "text/plain": [
              "<Figure size 640x480 with 1 Axes>"
            ],
            "image/png": "[encoded data removed]"
          },
          "metadata": {}
        }
      ],
      "source": [
        "x_list = []\n",
        "y_list = []\n",
        "\n",
        "graphTitle = input(\"Insert title: \")\n",
        "xLabel = input(\"Insert x-label: \")\n",
        "yLabel = input(\"Insert y-label: \")\n",
        "while(True):\n",
        "  try:\n",
        "    entriesCount = int(input(\"Insert entry-count: \"))\n",
        "    break\n",
        "  except:\n",
        "    print(\"Something went wrong...\")\n",
        "\n",
        "for n in range(entriesCount):\n",
        "    print(f\"Data [{n+1}]\")\n",
        "    while (True):\n",
        "      try:\n",
        "        coordinate = (input(\"Enter data: \")).strip()\n",
        "        coordinate = coordinate.split(\",\")\n",
        "\n",
        "        x = float(coordinate[0])\n",
        "        y = float(coordinate[1])\n",
        "\n",
        "        x_list.append(x)\n",
        "        y_list.append(y)\n",
        "        break\n",
        "      except:\n",
        "        print(\"Something went wrong...\")\n",
        "\n",
        "print(f\"\\nx-points: {x_list}\")\n",
        "print(f\"y-points: {y_list}\")\n",
        "\n",
        "x = np.array(x_list)\n",
        "y = np.array(y_list)\n",
        "\n",
        "centroidX = np.sum(x) / x.shape\n",
        "centroidY = np.sum(y) / y.shape\n",
        "\n",
        "print(f\"\\nCentroid-X is {centroidX}\")\n",
        "print(f\"Centroid-Y is {centroidY}\")\n",
        "\n",
        "# Find line of best fit\n",
        "a, b = np.polyfit(x, y, 1)\n",
        "slope = round(a, 4)\n",
        "intercept = round(b, 4)\n",
        "\n",
        "# Add points to plot\n",
        "plt.scatter(x, y)\n",
        "\n",
        "plt.title(graphTitle)\n",
        "\n",
        "plt.xlabel(xLabel)\n",
        "plt.ylabel(yLabel)\n",
        "\n",
        "# Add line of best fit to plot\n",
        "plt.plot(x, a*x+b)\n",
        "plt.xlim([0, max(x)+0.5])\n",
        "plt.ylim([0, max(y)+0.5])\n",
        "plt.grid()\n",
        "\n",
        "plt.scatter(centroidX, centroidY, color=\"hotpink\", label=\"Point of Centroid\")\n",
        "plt.legend()\n",
        "\n",
        "# Annotate the slope value on the plot\n",
        "plt.gcf().text(0.92, 0.8, f'Slope: {slope}', fontsize=10)\n",
        "plt.gcf().text(0.92, 0.75, f'y-intercept: {intercept}', fontsize=10)\n",
        "\n",
        "plt.show()"
      ]
    }
  ]
}